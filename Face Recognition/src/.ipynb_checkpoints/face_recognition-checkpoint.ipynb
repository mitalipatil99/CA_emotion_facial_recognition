{
 "cells": [
  {
   "cell_type": "code",
   "execution_count": 1,
   "id": "dcbbc869",
   "metadata": {},
   "outputs": [],
   "source": [
    "import cv2\n",
    "import os\n",
    "import numpy as np\n",
    "import matplotlib.pyplot as plt\n",
    "import time"
   ]
  },
  {
   "cell_type": "code",
   "execution_count": 3,
   "id": "2937790b",
   "metadata": {},
   "outputs": [],
   "source": [
    "def capture_image():\n",
    "    import time\n",
    "    camera = cv2.VideoCapture(0)\n",
    "    for i in range(5):\n",
    "        return_value, image = camera.read()\n",
    "        cv2.imwrite('current_user_images/opencv'+str(i)+'.png', image)\n",
    "        time.sleep(2)\n",
    "    del(camera)"
   ]
  },
  {
   "cell_type": "code",
   "execution_count": 2,
   "id": "a702eb2a",
   "metadata": {},
   "outputs": [],
   "source": [
    "def convertToRGB(img): \n",
    "    return cv2.cvtColor(img, cv2.COLOR_BGR2RGB)"
   ]
  },
  {
   "cell_type": "code",
   "execution_count": 3,
   "id": "ba497f82",
   "metadata": {},
   "outputs": [],
   "source": [
    "#face detector \n",
    "#function to detect face using OpenCV\n",
    "def detect_face(img):\n",
    "    #convert the test image to gray scale as opencv face detector expects gray images\n",
    "    gray = cv2.cvtColor(img, cv2.COLOR_BGR2GRAY)\n",
    " \n",
    "    #load OpenCV face detector, I am using LBP which is fast\n",
    "    #there is also a more accurate but slow: Haar classifier\n",
    "#     face_cascade = cv2.CascadeClassifier('opencv-files/lbpcascade_frontalface.xml')\n",
    "    face_cascade = cv2.CascadeClassifier(cv2.data.haarcascades + 'haarcascade_frontalface_alt.xml')\n",
    "\n",
    "    #let's detect multiscale images(some images may be closer to camera than others)\n",
    "    #result is a list of faces\n",
    "    faces = face_cascade.detectMultiScale(gray, scaleFactor=1.2, minNeighbors=5);\n",
    "\n",
    "    #if no faces are detected then return original img\n",
    "    if (len(faces) == 0):\n",
    "        return None, None\n",
    "    \n",
    "    #go over list of faces and draw them as rectangles on original colored\n",
    "    for (x, y, w, h) in faces:\n",
    "        cv2.rectangle(img, (x, y), (x+w, y+h), (0, 255, 0), 2)\n",
    "    #convert image to RGB and show image\n",
    "    plt.imshow(convertToRGB(img))\n",
    "\n",
    "    #under the assumption that there will be only one face,\n",
    "    #extract the face area\n",
    "    (x, y, w, h) = faces[0]\n",
    "\n",
    "    #return only the face part of the image\n",
    "    return gray[y:y+w, x:x+h], faces[0]"
   ]
  },
  {
   "cell_type": "code",
   "execution_count": 6,
   "id": "943959d4",
   "metadata": {},
   "outputs": [],
   "source": [
    "def prepare_training_data(data_folder_path):\n",
    "    labels = []\n",
    "    faces = []\n",
    "#     print(\"hi\")\n",
    "    dirs = os.listdir(data_folder_path)\n",
    "    print(dirs)\n",
    "    #let's go through each directory and read images within it\n",
    "    for dir_name in dirs:        \n",
    "        #our subject directories start with letter 's' so\n",
    "        #ignore any non-relevant directories if any\n",
    "        if not dir_name.startswith(\"s\"):\n",
    "            continue\n",
    "        print(f\"Now in directory {dir_name}...\")\n",
    "        #extract label number of subject from dir_name\n",
    "        #format of dir name = slabel\n",
    "        #, so removing letter 's' from dir_name will give us label\n",
    "        label = int(dir_name.replace(\"s\", \"\"))\n",
    "\n",
    "        #build path of directory containing images for current subject \n",
    "        #sample subject_dir_path = \"training-data/s1\"\n",
    "        subject_dir_path = data_folder_path + \"/\" + dir_name\n",
    "\n",
    "        #get the images names that are inside the given subject directory\n",
    "        subject_images_names = os.listdir(subject_dir_path)\n",
    "    #     print(subject_images_names)\n",
    "\n",
    "        #go through each image name, read image, \n",
    "        #detect face and add face to list of faces\n",
    "        for image_name in subject_images_names:\n",
    "            \n",
    "            #ignore system files like .DS_Store\n",
    "            if image_name.startswith(\".\"):\n",
    "                continue\n",
    "            print(f\"Now on image {image_name}...\")\n",
    "            #build image path\n",
    "            #sample image path = training-data/s1/1.pgm\n",
    "            image_path = subject_dir_path + \"/\" + image_name\n",
    "\n",
    "            #read image\n",
    "            image = cv2.imread(image_path)\n",
    "\n",
    "            #display an image window to show the image \n",
    "            cv2.imshow(\"Training on image...\", image)\n",
    "            cv2.waitKey(100)\n",
    "\n",
    "            #detect face\n",
    "            face, rect = detect_face(image)\n",
    "\n",
    "            #for the purpose of this tutorial\n",
    "            #we will ignore faces that are not detected\n",
    "            if face is not None:\n",
    "            #add face to list of faces\n",
    "                faces.append(face)\n",
    "                #add label for this face\n",
    "                labels.append(label)\n",
    "\n",
    "                cv2.destroyAllWindows()\n",
    "                cv2.waitKey(1)\n",
    "                cv2.destroyAllWindows()\n",
    "            else:\n",
    "                print(\"Face not found!!\")\n",
    "\n",
    "    return faces, labels"
   ]
  },
  {
   "cell_type": "code",
   "execution_count": null,
   "id": "9810490b",
   "metadata": {},
   "outputs": [],
   "source": [
    "def train_model(faces, labels):\n",
    "    #create our LBPH face recognizer \n",
    "    face_recognizer = cv2.face.LBPHFaceRecognizer_create()\n",
    "    face_recognizer.train(faces, np.array(labels))\n",
    "    return face_recognizer"
   ]
  },
  {
   "cell_type": "code",
   "execution_count": 6,
   "id": "a00ac069",
   "metadata": {},
   "outputs": [],
   "source": [
    "def draw_rectangle(img, rect):\n",
    "    (x, y, w, h) = rect\n",
    "    cv2.rectangle(img, (x, y), (x+w, y+h), (0, 255, 0), 2)"
   ]
  },
  {
   "cell_type": "code",
   "execution_count": 7,
   "id": "d40d3795",
   "metadata": {},
   "outputs": [],
   "source": [
    "#function to draw text on give image starting from\n",
    "#passed (x, y) coordinates. \n",
    "def draw_text(img, text, x, y):\n",
    "    cv2.putText(img, text, (x, y), cv2.FONT_HERSHEY_PLAIN, 1.5, (0, 255, 0), 2)"
   ]
  },
  {
   "cell_type": "code",
   "execution_count": 7,
   "id": "af6465bc",
   "metadata": {},
   "outputs": [],
   "source": [
    "#this function recognizes the person in image passed\n",
    "#and draws a rectangle around detected face with name of the \n",
    "#subject\n",
    "def predict(test_img, face_recognizer, subjects):\n",
    "    #make a copy of the image as we don't want to change original image\n",
    "    img = test_img.copy()\n",
    "    #detect face from the image\n",
    "    face, rect = detect_face(img)\n",
    "\n",
    "    #predict the image using our face recognizer \n",
    "    label, conf = face_recognizer.predict(face)\n",
    "    print(\"label:\", label)\n",
    "    print(\"conf: \", conf)\n",
    "    \n",
    "    #get name of respective label returned by face recognizer\n",
    "    if(conf < 65):\n",
    "        label_text = subjects[label] ###\n",
    "    else:\n",
    "        label_text = \"Unknown Person\"\n",
    "\n",
    "    #draw a rectangle around face detected\n",
    "    draw_rectangle(img, rect)\n",
    "    #draw name of predicted person\n",
    "    draw_text(img, label_text, rect[0], rect[1]-5)\n",
    "\n",
    "    return img, label_text, label"
   ]
  },
  {
   "cell_type": "code",
   "execution_count": 5,
   "id": "baf046e0",
   "metadata": {},
   "outputs": [],
   "source": [
    "# def __main__():\n",
    "#     print(\"Preparing data...\")\n",
    "#     faces, labels = prepare_training_data(\"./captured_images\")\n",
    "#     print(\"Data prepared\")\n",
    "\n",
    "#     #print total faces and labels\n",
    "#     print(\"Total faces: \", len(faces))\n",
    "#     print(\"Total labels: \", len(labels))"
   ]
  },
  {
   "cell_type": "code",
   "execution_count": null,
   "id": "91cb0728",
   "metadata": {},
   "outputs": [],
   "source": []
  }
 ],
 "metadata": {
  "kernelspec": {
   "display_name": "Python 3",
   "language": "python",
   "name": "python3"
  },
  "language_info": {
   "codemirror_mode": {
    "name": "ipython",
    "version": 3
   },
   "file_extension": ".py",
   "mimetype": "text/x-python",
   "name": "python",
   "nbconvert_exporter": "python",
   "pygments_lexer": "ipython3",
   "version": "3.8.8"
  }
 },
 "nbformat": 4,
 "nbformat_minor": 5
}
